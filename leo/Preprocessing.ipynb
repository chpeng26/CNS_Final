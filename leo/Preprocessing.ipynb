{
 "cells": [
  {
   "cell_type": "code",
   "execution_count": 24,
   "metadata": {},
   "outputs": [],
   "source": [
    "import os, sys\n",
    "import numpy as np\n",
    "from random import shuffle\n",
    "from math import log, floor\n",
    "import pandas as pd\n",
    "from sklearn.metrics import *\n",
    "from sklearn.model_selection import *\n",
    "import random\n",
    "from random import shuffle\n",
    "import re\n",
    "import string\n",
    "import unicodedata as udata\n",
    "import pickle\n",
    "from tqdm import tqdm # pip install tqdm"
   ]
  },
  {
   "cell_type": "markdown",
   "metadata": {},
   "source": [
    "## Parameters have to be changed\n",
    "\n",
    "最後結果輸出於all_features變數中\n",
    "\n",
    "shape=(筆數,pad_length,vector)\n",
    "\n",
    "修改好以下路徑就可以直接run all了\n",
    "\n",
    "training大概要處理半小時，testing大約三分鐘\n",
    "\n"
   ]
  },
  {
   "cell_type": "code",
   "execution_count": 25,
   "metadata": {},
   "outputs": [],
   "source": [
    "word_model_dict = pickle.load(open('model/word_model_dict.pkl','rb')) # word2vec pickle\n",
    "df = pd.read_csv('data/train_label_10.csv',header=None) ##traing label path\n",
    "df2 = pd.read_csv('data/test_label_10.csv',header=None) ## testing label path\n",
    "trace_dir = 'data/trace_by_family_5up/' #trace.hooklog所在的目錄，此目錄底下還會包含各家族的子目錄\n"
   ]
  },
  {
   "cell_type": "code",
   "execution_count": 26,
   "metadata": {},
   "outputs": [],
   "source": [
    "pad_length = 555 # 一個malware要取幾個api call sequence\n",
    "train_or_test = 'train' #處理訓練料或是測試資料\n",
    "vector=67 #一個api call要用幾個維度來表示。不加api預設67，加的話99。基本上不用動"
   ]
  },
  {
   "cell_type": "markdown",
   "metadata": {},
   "source": [
    "## Functions"
   ]
  },
  {
   "cell_type": "code",
   "execution_count": 27,
   "metadata": {},
   "outputs": [],
   "source": [
    "def tick_mapping(x):\n",
    "    if  x.find('#')!=-1:\n",
    "        return '#'\n",
    "    else:\n",
    "        return x"
   ]
  },
  {
   "cell_type": "code",
   "execution_count": 28,
   "metadata": {},
   "outputs": [],
   "source": [
    "def split(x):\n",
    "    if x.find('='):\n",
    "        return x.lower().split('=')[-1]\n",
    "    else:\n",
    "        return x.lower()\n",
    "        "
   ]
  },
  {
   "cell_type": "code",
   "execution_count": 29,
   "metadata": {},
   "outputs": [],
   "source": [
    "def find_api(x):\n",
    "#     if ['=','\\\\','/',':',';','-','<','.' ] not in x:\n",
    "    if  x.find('=')==-1 and x.find('#')==-1 and x.find('/')==-1:\n",
    "        x = re.sub('[^a-zA-Z]+','',x)\n",
    "        return x\n",
    "    else:\n",
    "        return np.nan"
   ]
  },
  {
   "cell_type": "code",
   "execution_count": 30,
   "metadata": {},
   "outputs": [],
   "source": [
    "def find_param(x):\n",
    "    if  x.find('=')!=-1 and x.find('#')==-1 :\n",
    "        return x.replace('=',' ').lower()\n",
    "    else:\n",
    "        return np.nan"
   ]
  },
  {
   "cell_type": "code",
   "execution_count": 31,
   "metadata": {},
   "outputs": [],
   "source": [
    "def find_param_r(x):\n",
    "    if  x.find('=')!=-1 and x.find('#')==-1 :\n",
    "#         x = re.sub(r\"([A-Z])\",r\" \\1\",x)\n",
    "        x = re.sub(r\"([A-Z][a-z])\",r\" \\1\",x)\n",
    "        x = re.sub(r\"([A-Z]+[ ])\",r' \\1',x) # 把大寫依照字拆開\n",
    "        x = x.split('=')[-1].lower()\n",
    "#         x = re.sub('_+|/+|-+|\\.+|{+|}+|[+|]+|(+|)+|\\\\+|~+|^+|@+|#+|!+|%+|&+|\\*+|\\++|=+|?+',' ',x)\n",
    "        x = re.sub(\"[^A-Za-z0-9]+\",' ',x)\n",
    "        return x\n",
    "    else:\n",
    "        return np.nan"
   ]
  },
  {
   "cell_type": "code",
   "execution_count": 32,
   "metadata": {},
   "outputs": [],
   "source": [
    "def find_param_r_2(x):\n",
    "    x = re.sub(r\"([A-Z][a-z])\",r\" \\1\",x)\n",
    "    x = re.sub(r\"([A-Z]+[ ])\",r' \\1',x) # 把大寫依照字拆開\n",
    "    x = x.split('=')[-1].lower()\n",
    "    #         x = re.sub('_+|/+|-+|\\.+|{+|}+|[+|]+|(+|)+|\\\\+|~+|^+|@+|#+|!+|%+|&+|\\*+|\\++|=+|?+',' ',x)\n",
    "    x = re.sub(\"[^A-Za-z0-9]+\",' ',x)\n",
    "    return x"
   ]
  },
  {
   "cell_type": "code",
   "execution_count": 33,
   "metadata": {},
   "outputs": [],
   "source": [
    "def find_param_l(x):\n",
    "    if  x.find('=')!=-1 and x.find('#')==-1 :\n",
    "        return x.split('=')[0].lower().strip()\n",
    "    else:\n",
    "        return np.nan"
   ]
  },
  {
   "cell_type": "code",
   "execution_count": 34,
   "metadata": {},
   "outputs": [],
   "source": [
    "def transform_malware_to_dict(s):\n",
    "    \"\"\"\n",
    "    Transfer a malware to a list of dict.\n",
    "    Input:\n",
    "    - s: pandas.series, malware\n",
    "    \n",
    "    Output: a list of malware attributes\n",
    "    \"\"\"\n",
    "    list_ = []\n",
    "    temp_dict = {}\n",
    "    for k in s:\n",
    "        if k == '#':\n",
    "            if bool(temp_dict):\n",
    "                list_.append(temp_dict)\n",
    "            temp_dict = {}\n",
    "        elif k.find('=') == -1:\n",
    "            temp_dict['api'] = k\n",
    "        else:\n",
    "            sp = k.split('=')\n",
    "            temp_dict[sp[0]] = sp[1] if sp[1] else ''\n",
    "#     print(list_)\n",
    "    return list_\n",
    "def transform_api_to_feature(d):\n",
    "    \"\"\"\n",
    "    Transform a dict of api to trainable features.\n",
    "    Input:\n",
    "    - d: dict, api keys and values\n",
    "    - word_model_dict: a dict of trained doc2vec model\n",
    "    - dim_dict: a dict of doc2vec dimention\n",
    "    \n",
    "    Output: tranable features np.array\n",
    "    \"\"\"\n",
    "    hex2dec_list = ['lpcbData', 'lpdwDisposition', 'phkresult', 'samDesired']\n",
    "    special_list = ['Return', 'uExitCode', 'lpData', 'lpType']\n",
    "    word_vector_list = ['dwDesiredAccess', 'dwShareMode', 'hkey', 'hObject', 'lpFileName', \n",
    "                        'lpSubKey', 'lpValueName', 'procName', 'dwCreationDisposition', 'dwType']\n",
    "    dec_list = ['dwFlags', 'dwFlagsAndAtrributes', 'dwIndex']\n",
    "    \n",
    "    dim_dict = {\n",
    "        'dwDesiredAccess':10,\n",
    "        'dwShareMode':3,\n",
    "        'hkey':15,\n",
    "        'hObject':4,\n",
    "        'lpFileName':5,\n",
    "        'lpSubKey':4,\n",
    "        'lpValueName':3,\n",
    "        'procName':2, \n",
    "        'dwCreationDisposition':3, \n",
    "        'dwType':2\n",
    "    }\n",
    "    \n",
    "    output_features = []\n",
    "    \n",
    "    for key in hex2dec_list:\n",
    "        if key in d.keys():\n",
    "            f = int(d[key], 16)\n",
    "        else:\n",
    "            f = -1\n",
    "        output_features.append([f])\n",
    "        \n",
    "    for key in word_vector_list:\n",
    "        if key in d.keys():\n",
    "            f = word_model_dict[key.lower()].infer_vector([d[key]]).tolist()\n",
    "        else:\n",
    "            f = [-1] * dim_dict[key]\n",
    "        output_features.append(f)\n",
    "    \n",
    "    for key in dec_list:\n",
    "        if key in d.keys():\n",
    "            try:\n",
    "                f = float(d[key])\n",
    "            except:\n",
    "                f = int(d[key], 16)\n",
    "        else: \n",
    "            f = -1\n",
    "        output_features.append([f])\n",
    "        \n",
    "    key = 'Return'\n",
    "    if key in d.keys():\n",
    "        if d[key].lower() == 'success':\n",
    "            f = 1\n",
    "        elif d[key].lower() == 'failure':\n",
    "            f = 0\n",
    "        else:\n",
    "            f = -1\n",
    "    else:\n",
    "        f = -1\n",
    "    output_features.append([f])\n",
    "    \n",
    "    key = 'uExitCode'\n",
    "    if key in d.keys():\n",
    "        if int(d[key]) > 255/2:\n",
    "            f = 1\n",
    "        else:\n",
    "            f = 0\n",
    "    else:\n",
    "        f = -1\n",
    "    output_features.append([f])\n",
    "    \n",
    "    key = 'lpData'\n",
    "    if key in d.keys():\n",
    "        f = []\n",
    "        f.append(len(d[key]))\n",
    "        f.append(float(d[key].replace('.', '', 1).isdigit()))\n",
    "    else:\n",
    "        f = [-1, -1]\n",
    "    output_features.append(f)\n",
    "    \n",
    "    key = 'lpType'\n",
    "    if key in d.keys():\n",
    "        f = [0] * 5\n",
    "        label = ['0', 'REG_DWORD', 'REG_BINARY', 'REG_SZ', 'REG_EXPAND_SZ']\n",
    "        for i in range(len(label)):\n",
    "            if d[key] == label[i]:\n",
    "                f[i] = 1\n",
    "    else:\n",
    "        f = [-1] * 5\n",
    "    output_features.append(f)\n",
    "    \n",
    "#     key='api'\n",
    "#     if key in d.keys():\n",
    "#         f = [0] * 32\n",
    "#         label = ['WinHttpWriteData','GetUrlCacheEntryInfo', 'TerminateProcess','OpenThread','RegDeleteKey',\n",
    "# 'HttpSendRequest','RegOpenKey','LoadLibrary','RegQueryValue','RegCloseKey', 'RegCreateKey',\n",
    "#  'CreateFile', 'CloseHandle', 'RegOpenCurrentUser', 'RegEnumValue', 'CreateRemoteThread',\n",
    "#  'CreateThread',  'DeleteFile', 'RegSetValue', 'ExitProcess', 'OpenProcess', 'CopyFile',\n",
    "#  'RegDeleteValue', 'CreateProcess', 'WinHttpOpen', 'WinHttpConnect', 'WinHttpOpenRequest',\n",
    "#  'WinHttpSendRequest',  'WinHttpReadData', 'InternetOpen', 'InternetConnect', 'WinExec']\n",
    "#         for i in range(len(label)):\n",
    "#             if d[key] == label[i]:\n",
    "#                 f[i] = 1\n",
    "#     else:\n",
    "#         f = [-1] * 32\n",
    "#     output_features.append(f)\n",
    "#     print(np.array(output_features))\n",
    "    return np.concatenate(output_features)"
   ]
  },
  {
   "cell_type": "code",
   "execution_count": 35,
   "metadata": {},
   "outputs": [],
   "source": [
    "def clean_values(d):\n",
    "    a={}\n",
    "    for key, value in d.items():\n",
    "        if key == 'api':\n",
    "            a[key] =  re.sub('[^a-zA-Z]+','',value)\n",
    "#             continue\n",
    "        else:\n",
    "            d[key] = find_param_r_2(value)\n",
    "    return d"
   ]
  },
  {
   "cell_type": "markdown",
   "metadata": {},
   "source": [
    "## Main"
   ]
  },
  {
   "cell_type": "code",
   "execution_count": 36,
   "metadata": {},
   "outputs": [],
   "source": [
    "df.drop([0],inplace=True)\n",
    "df2.drop([0],inplace=True)\n",
    "train_list = df[0].values.tolist()\n",
    "test_list = df2[0].values.tolist()"
   ]
  },
  {
   "cell_type": "code",
   "execution_count": 37,
   "metadata": {
    "scrolled": true
   },
   "outputs": [
    {
     "name": "stderr",
     "output_type": "stream",
     "text": [
      "100%|██████████| 52/52 [01:25<00:00,  1.64s/it]\n"
     ]
    },
    {
     "data": {
      "text/plain": [
       "(422, 555, 67)"
      ]
     },
     "execution_count": 37,
     "metadata": {},
     "output_type": "execute_result"
    }
   ],
   "source": [
    "pad_len = pad_length\n",
    "if train_or_test == 'train':\n",
    "    train_test = train_list\n",
    "else:\n",
    "    train_test = test_list\n",
    "df_all = pd.DataFrame( columns=['api'])\n",
    "df2 = pd.DataFrame( columns=['param_left','param_right'])\n",
    "df_all2 = pd.DataFrame( columns=['param_left','param_right'])\n",
    "all_feature = np.empty((0,vector)) #99\n",
    "all_features = np.empty((0,pad_len,vector)) #99\n",
    "x = np.array([0]*vector) #99\n",
    "kk = pd.Series([x])\n",
    "for name in tqdm(os.listdir(trace_dir)):\n",
    "    for hl in os.listdir(trace_dir+name):\n",
    "#         print(name,hl) #debug用\n",
    "        if hl.split('.')[0] not in train_test:  #train_list/test_list\n",
    "            continue\n",
    "        try:\n",
    "            df = pd.read_csv(trace_dir+name+\"/\"+hl ,header=None,encoding='latin1',sep='\\n')\n",
    "        except:\n",
    "            df = pd.read_table(trace_dir+name+\"/\"+hl ,header=None,encoding='latin1')\n",
    "        df = df.drop(df.iloc[0].index,axis=0)\n",
    "        df[0] = df[0].map(tick_mapping)\n",
    "#         print(len(df[0]))\n",
    "        malware_dict_list = transform_malware_to_dict(df[0])\n",
    "#         print(len(malware_dict_list))\n",
    "        malware_dict_list = pd.Series(data=malware_dict_list).map(clean_values)\n",
    "#         api_call = api_call.map(encode_api)\n",
    "        malware_dict_list = malware_dict_list.map(transform_api_to_feature)\n",
    "        api_length = len(malware_dict_list)\n",
    "        if api_length <pad_len:  #pad size\n",
    "            for i in range(pad_len-api_length):\n",
    "                malware_dict_list = malware_dict_list.append(kk)\n",
    "#                 print(api_length)\n",
    "        else:\n",
    "            malware_dict_list = malware_dict_list[:pad_len]\n",
    "#         break\n",
    "#         print(len(malware_dict_list))\n",
    "\n",
    "        features = malware_dict_list.values#.tolist()\n",
    "#         print(features.shape,feature_a.shape)\n",
    "        all_feature = np.append(all_feature, features)\n",
    "#         print(all_feature[0].shape)\n",
    "        all_feature = np.stack(all_feature,axis=0)\n",
    "        all_feature = np.expand_dims(all_feature,axis=0)\n",
    "#         print(all_feature.shape, all_features.shape)\n",
    "        all_features = np.append(all_features,all_feature,axis=0)\n",
    "        all_feature = np.empty((0,vector)) #99\n",
    "# df_all2.head()\n",
    "all_features.shape"
   ]
  },
  {
   "cell_type": "code",
   "execution_count": null,
   "metadata": {},
   "outputs": [],
   "source": []
  }
 ],
 "metadata": {
  "kernelspec": {
   "display_name": "Python [conda env:anaconda3]",
   "language": "python",
   "name": "conda-env-anaconda3-py"
  },
  "language_info": {
   "codemirror_mode": {
    "name": "ipython",
    "version": 3
   },
   "file_extension": ".py",
   "mimetype": "text/x-python",
   "name": "python",
   "nbconvert_exporter": "python",
   "pygments_lexer": "ipython3",
   "version": "3.6.5"
  }
 },
 "nbformat": 4,
 "nbformat_minor": 2
}
